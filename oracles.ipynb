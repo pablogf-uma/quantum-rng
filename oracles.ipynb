{
 "cells": [
  {
   "cell_type": "markdown",
   "metadata": {},
   "source": [
    "# THE ORACLES"
   ]
  },
  {
   "cell_type": "markdown",
   "metadata": {},
   "source": [
    "## REQUIREMENTS FOR THIS NOTEBOOK"
   ]
  },
  {
   "cell_type": "code",
   "execution_count": null,
   "metadata": {},
   "outputs": [],
   "source": [
    "# Create a virtual environment with Python \n",
    "\n",
    "# Please, in order to properly run this notebook, make sure the following packages are installed\n",
    "\n",
    "# qiskit                    0.45.0\n",
    "# qiskit-aer                0.13.0\n",
    "# qiskit-terra              0.45.0\n",
    "\n",
    "# Once Python is installed and a new virtual environment is created, execute the following commands:\n",
    "# pip install qiskit==0.45.0\n",
    "# pip install quiskit-aer==0.13.0"
   ]
  },
  {
   "cell_type": "markdown",
   "metadata": {},
   "source": [
    "## SOME AUXILIARY FUNCTIONS"
   ]
  },
  {
   "cell_type": "markdown",
   "metadata": {},
   "source": [
    "### OBTAINING THE BINARY REPRESENTATION OF INTEGERS"
   ]
  },
  {
   "cell_type": "code",
   "execution_count": 6,
   "metadata": {},
   "outputs": [],
   "source": [
    "import numpy as np\n",
    "\n",
    "def to_binary(number, nbits=None):\n",
    "    \n",
    "    '''\n",
    "    This fucntion transforms an integer to its binary form (string).\n",
    "    If a determined number of bits is required (more than the needed ones),\n",
    "    it can be passed as a parameter too, nbits, None by default.\n",
    "    It is needed that the number of bits passed as a parameter is larger\n",
    "    than the number of bits needed to write the number in binary. \n",
    "\n",
    "    Input:\n",
    "    number: integer (int).\n",
    "    nbits: integer (int), None by default\n",
    "\n",
    "    Output:\n",
    "    binary: string (str) containing the number in its binary form.\n",
    "    It writes 0s in front if nbits is larger than the number of bits needed\n",
    "    to write the binary form.\n",
    "    '''\n",
    "\n",
    "    if nbits is None:\n",
    "        return bin(number)[2:]\n",
    "    else:\n",
    "        binary = bin(number)[2:]\n",
    "        if nbits < len(binary):\n",
    "            print('Error, nbits must be larger than %d.'%(len(binary)))\n",
    "        else:\n",
    "            return '0' * (nbits - len(binary)) + binary\n",
    "        \n",
    "\n",
    "\n"
   ]
  },
  {
   "cell_type": "code",
   "execution_count": null,
   "metadata": {},
   "outputs": [
    {
     "name": "stdout",
     "output_type": "stream",
     "text": [
      "0011\n"
     ]
    }
   ],
   "source": [
    "n = 3 #Integer for what the binary representation must be obtained\n",
    "numbits = 4 #Precission for the representation (number of bits)\n",
    "print (to_binary (n,numbits))"
   ]
  },
  {
   "cell_type": "markdown",
   "metadata": {},
   "source": [
    "### THE MULTICONTROLED Z GATE"
   ]
  },
  {
   "cell_type": "code",
   "execution_count": 8,
   "metadata": {},
   "outputs": [],
   "source": [
    "# Imports\n",
    "from qiskit import QuantumCircuit, transpile\n",
    "from qiskit.circuit.library import MCXGate\n",
    "from qiskit.extensions import UnitaryGate\n",
    "\n",
    "\n",
    "def multi_control_z(nqubits):\n",
    "  '''\n",
    "  Function to create a multi-controlled Z gate.\n",
    "\n",
    "  Input:\n",
    "  nqubits: Integer (int) of the number of qubits in the gate (controls and target)\n",
    "      This means that the gate has nqubits-1 controls and 1 target.\n",
    "\n",
    "  Output:\n",
    "  circuit: QuantumCircuit containing a multi-controlled Z gate.\n",
    "    It has to be transformed with method .to_gate() to append to a QuantumCircuit larger.\n",
    "\n",
    "  Example:\n",
    "\n",
    "  main_circuit = QuantumCircuit(nqubits)\n",
    "\n",
    "  gate_multi_z = multi_control_z(nqubits)\n",
    "\n",
    "  main_circuit.append(gate_multi_z.to_gate(), range(nqubits))\n",
    "  '''\n",
    "  circuit=QuantumCircuit(nqubits,name=' CZ (%d)' %(nqubits))\n",
    "  circuit.h(nqubits-1)\n",
    "  gate = MCXGate(nqubits-1)\n",
    "  circuit.append(gate, range(nqubits))\n",
    "  circuit.h(nqubits-1)\n",
    "  return circuit\n"
   ]
  },
  {
   "cell_type": "code",
   "execution_count": 9,
   "metadata": {},
   "outputs": [
    {
     "data": {
      "text/html": [
       "<pre style=\"word-wrap: normal;white-space: pre;background: #fff0;line-height: 1.1;font-family: &quot;Courier New&quot;,Courier,monospace\">                    \n",
       "q_0: ───────■───────\n",
       "            │       \n",
       "q_1: ───────■───────\n",
       "            │       \n",
       "q_2: ───────■───────\n",
       "            │       \n",
       "q_3: ───────■───────\n",
       "            │       \n",
       "q_4: ───────■───────\n",
       "     ┌───┐┌─┴─┐┌───┐\n",
       "q_5: ┤ H ├┤ X ├┤ H ├\n",
       "     └───┘└───┘└───┘</pre>"
      ],
      "text/plain": [
       "                    \n",
       "q_0: ───────■───────\n",
       "            │       \n",
       "q_1: ───────■───────\n",
       "            │       \n",
       "q_2: ───────■───────\n",
       "            │       \n",
       "q_3: ───────■───────\n",
       "            │       \n",
       "q_4: ───────■───────\n",
       "     ┌───┐┌─┴─┐┌───┐\n",
       "q_5: ┤ H ├┤ X ├┤ H ├\n",
       "     └───┘└───┘└───┘"
      ]
     },
     "execution_count": 9,
     "metadata": {},
     "output_type": "execute_result"
    }
   ],
   "source": [
    "nqubits = 6\n",
    "circuit = multi_control_z(nqubits)\n",
    "circuit.draw()"
   ]
  },
  {
   "cell_type": "markdown",
   "metadata": {},
   "source": [
    "### THE DIFFUSER"
   ]
  },
  {
   "cell_type": "code",
   "execution_count": 10,
   "metadata": {},
   "outputs": [],
   "source": [
    "# Imports\n",
    "from qiskit import QuantumCircuit\n",
    "\n",
    "\n",
    "def diffuser_circuit(nqubits):\n",
    "  '''\n",
    "  Function to create the GROVER's diffuser circuit.\n",
    "\n",
    "  Input:\n",
    "  nqubits: Integer (int) of the number of qubits fo the circuit\n",
    "  for wich the diffuser will be created.\n",
    "\n",
    "  Output:\n",
    "  circuit: QuantumCircuit containing the diffuser.\n",
    "  It has to be transformed with method .to_gate() to append to a QuantumCircuit larger.\n",
    "\n",
    "  Example:\n",
    "\n",
    "  main_circuit = QuantumCircuit(nqubits)\n",
    "\n",
    "  diffuser = difusser(nqubits)\n",
    "\n",
    "  main_circuit.append(diffuser.to_gate(), range(nqubits-1, -1, -1))\n",
    "  '''\n",
    "\n",
    "  circuit=QuantumCircuit(nqubits,name=' Diffuser (%d)'%(nqubits))\n",
    "\n",
    "  for qb in range (nqubits):\n",
    "    circuit.h(qb)\n",
    "  for qb in range (nqubits):\n",
    "    circuit.x(qb)\n",
    "  multi_z = multi_control_z(nqubits)\n",
    "  circuit.append(multi_z.to_gate(),  range(nqubits-1, -1, -1))  \n",
    "  for qb in range (nqubits):\n",
    "    circuit.x(qb)\n",
    "  for qb in range (nqubits):\n",
    "    circuit.h(qb)\n",
    "  return circuit"
   ]
  },
  {
   "cell_type": "code",
   "execution_count": 11,
   "metadata": {},
   "outputs": [
    {
     "data": {
      "text/html": [
       "<pre style=\"word-wrap: normal;white-space: pre;background: #fff0;line-height: 1.1;font-family: &quot;Courier New&quot;,Courier,monospace\">     ┌───┐┌───┐┌──────────┐┌───┐┌───┐\n",
       "q_0: ┤ H ├┤ X ├┤3         ├┤ X ├┤ H ├\n",
       "     ├───┤├───┤│          │├───┤├───┤\n",
       "q_1: ┤ H ├┤ X ├┤2         ├┤ X ├┤ H ├\n",
       "     ├───┤├───┤│   CZ (4) │├───┤├───┤\n",
       "q_2: ┤ H ├┤ X ├┤1         ├┤ X ├┤ H ├\n",
       "     ├───┤├───┤│          │├───┤├───┤\n",
       "q_3: ┤ H ├┤ X ├┤0         ├┤ X ├┤ H ├\n",
       "     └───┘└───┘└──────────┘└───┘└───┘</pre>"
      ],
      "text/plain": [
       "     ┌───┐┌───┐┌──────────┐┌───┐┌───┐\n",
       "q_0: ┤ H ├┤ X ├┤3         ├┤ X ├┤ H ├\n",
       "     ├───┤├───┤│          │├───┤├───┤\n",
       "q_1: ┤ H ├┤ X ├┤2         ├┤ X ├┤ H ├\n",
       "     ├───┤├───┤│   CZ (4) │├───┤├───┤\n",
       "q_2: ┤ H ├┤ X ├┤1         ├┤ X ├┤ H ├\n",
       "     ├───┤├───┤│          │├───┤├───┤\n",
       "q_3: ┤ H ├┤ X ├┤0         ├┤ X ├┤ H ├\n",
       "     └───┘└───┘└──────────┘└───┘└───┘"
      ]
     },
     "execution_count": 11,
     "metadata": {},
     "output_type": "execute_result"
    }
   ],
   "source": [
    "nqubits = 4\n",
    "diffuser = diffuser_circuit(nqubits)\n",
    "diffuser.draw()"
   ]
  },
  {
   "cell_type": "markdown",
   "metadata": {},
   "source": [
    "### GLOBAL PHASE"
   ]
  },
  {
   "cell_type": "code",
   "execution_count": 12,
   "metadata": {},
   "outputs": [],
   "source": [
    "# Imports\n",
    "from qiskit import QuantumCircuit, transpile\n",
    "from qiskit.circuit.library import MCXGate\n",
    "from qiskit.extensions import UnitaryGate\n",
    "\n",
    "\n",
    "def globalphase():\n",
    "    '''\n",
    "    Function to create a gate the puts a global phase of Pi.\n",
    "    The global phase can be applied afterwards to any qbit of a circuit\n",
    "\n",
    "    Input:\n",
    "\n",
    "\n",
    "    Output:\n",
    "    circuit: QuantumCircuit containing the a sequence of gates that applied to any qbit of a circuit provides a \n",
    "    global phase of Pi to it\n",
    "    It has to be transformed with method .to_gate() to append to a QuantumCircuit larger.\n",
    "\n",
    "    Example:\n",
    "\n",
    "    main_circuit = QuantumCircuit(nqubits)\n",
    "\n",
    "    dg = globalphase(nqubits)\n",
    "\n",
    "    main_circuit.append(globalphase.to_gate(), 0)\n",
    "    '''\n",
    "    circuit=QuantumCircuit(1,name=' GlobalPhase (%d)')\n",
    "\n",
    "    circuit.z(0)\n",
    "    circuit.x(0)\n",
    "    circuit.z(0)\n",
    "    circuit.x(0)\n",
    "    \n",
    "\n",
    "    return circuit"
   ]
  },
  {
   "cell_type": "code",
   "execution_count": 13,
   "metadata": {},
   "outputs": [
    {
     "data": {
      "text/html": [
       "<pre style=\"word-wrap: normal;white-space: pre;background: #fff0;line-height: 1.1;font-family: &quot;Courier New&quot;,Courier,monospace\">   ┌───┐┌───┐┌───┐┌───┐\n",
       "q: ┤ Z ├┤ X ├┤ Z ├┤ X ├\n",
       "   └───┘└───┘└───┘└───┘</pre>"
      ],
      "text/plain": [
       "   ┌───┐┌───┐┌───┐┌───┐\n",
       "q: ┤ Z ├┤ X ├┤ Z ├┤ X ├\n",
       "   └───┘└───┘└───┘└───┘"
      ]
     },
     "execution_count": 13,
     "metadata": {},
     "output_type": "execute_result"
    }
   ],
   "source": [
    "gb = globalphase()\n",
    "\n",
    "gb.draw()\n"
   ]
  },
  {
   "cell_type": "markdown",
   "metadata": {},
   "source": [
    "## THE LESS_THAN ORACLE"
   ]
  },
  {
   "cell_type": "code",
   "execution_count": 14,
   "metadata": {},
   "outputs": [],
   "source": [
    "def oracle_less_than(number, nqubits, name=None):\n",
    "\n",
    "    '''\n",
    "    This function builds a quantum circuit, an oracle, which marks with a pi-phase\n",
    "    those states which represent numbers strictly smaler than the number given by parameter.\n",
    "\n",
    "    The procedure is almost the same for all numbers, with the only exception of a difference\n",
    "    if the first bit of the number in binary is 1 or 0.\n",
    "\n",
    "    Input:\n",
    "    number: integer (int) containing the objective number,\n",
    "       or a string (str) with the binary representation of such number.\n",
    "    nqubits: integer (int) number of qubits of the circuit.\n",
    "       It must be larger than the number of digits of the binary representation of number.\n",
    "    name: string (str), default None, name of the circuit.\n",
    "\n",
    "    Output:\n",
    "    circuit: QuantumCircuit which marks with fase pi the states which\n",
    "    represent in binary the numbers strictly smaller than number.\n",
    "    '''\n",
    "\n",
    "    # Construction of the circuit\n",
    "    if name:# If name is provided give such name to the circuit\n",
    "        circuit = QuantumCircuit(nqubits, name=name)\n",
    "    else: # Otherwise, the name is just \" < number\"\n",
    "        circuit = QuantumCircuit(nqubits, name = ' < %d '%number)\n",
    "\n",
    "    # Binary representation of the number\n",
    "    num_binary = to_binary(number, nqubits)\n",
    "    \n",
    "    # Discard the 0s at the end, as they will not be used and save\n",
    "    # unnecessary X gates\n",
    "    num_binary = num_binary.rstrip('0')\n",
    "\n",
    "    \n",
    "    if num_binary[0] == '1':\n",
    "        # If the first digit is 1\n",
    "        # Mark all the states of the form |0q1...>\n",
    "        circuit.x(nqubits-1)\n",
    "        circuit.z(nqubits-1)\n",
    "        circuit.x(nqubits-1)\n",
    "    else:\n",
    "        # If first digit is 0\n",
    "        # Apply X gate to first qubit\n",
    "        circuit.x(nqubits-1)\n",
    "    \n",
    "    # For loop on the remaining digits\n",
    "    for position1, value in enumerate(num_binary[1:]):\n",
    "        # Rename the position as it starts with 0 in the second bit and\n",
    "        # we want it to be 1.\n",
    "        position = position1 + 1\n",
    "        #for nq in range(nqubits):\n",
    "        #    circuit.barrier(nq)\n",
    "\n",
    "        if value == '0':\n",
    "            # If the digit is 0\n",
    "            # Just apply a X gate\n",
    "            circuit.x(nqubits-position-1)\n",
    "        else:\n",
    "            # If the digit bi is 1\n",
    "            # Apply a multi-controlled Z gate to mark states of the shape:\n",
    "            # |bn...bi+1 0 qi-1...q1>\n",
    "            # where bn,...,bi+1 are the first n-i bits of m, which is of the shape bn...bi+1 1 bi-1...b1\n",
    "            # because we just checked that bi is 1.\n",
    "            # Hence, the numbers of the form bn...bi+1 0 qi-1...q1 are smaller than m.\n",
    "            circuit.x(nqubits-position-1)\n",
    "            multi_z = multi_control_z(position + 1)\n",
    "            circuit.append(multi_z.to_gate(), range(nqubits-1, nqubits-position-2, -1))\n",
    "            circuit.x(nqubits-position-1)\n",
    "    \n",
    "    for position, value in enumerate(num_binary):\n",
    "        # Apply X gates to qubits in position of bits with a 0 value\n",
    "        #for nq in range(nqubits):\n",
    "        #    circuit.barrier(nq)\n",
    "        if value == '0':\n",
    "            circuit.x(nqubits-position-1)\n",
    "        else:\n",
    "            pass\n",
    "    \n",
    "    return circuit"
   ]
  },
  {
   "cell_type": "code",
   "execution_count": 15,
   "metadata": {},
   "outputs": [
    {
     "data": {
      "text/html": [
       "<pre style=\"word-wrap: normal;white-space: pre;background: #fff0;line-height: 1.1;font-family: &quot;Courier New&quot;,Courier,monospace\">                           \n",
       "q_0: ──────────────────────\n",
       "                           \n",
       "q_1: ──────────────────────\n",
       "     ┌───┐┌──────────┐┌───┐\n",
       "q_2: ┤ X ├┤1         ├┤ X ├\n",
       "     ├───┤│   CZ (2) │├───┤\n",
       "q_3: ┤ X ├┤0         ├┤ X ├\n",
       "     └───┘└──────────┘└───┘</pre>"
      ],
      "text/plain": [
       "                           \n",
       "q_0: ──────────────────────\n",
       "                           \n",
       "q_1: ──────────────────────\n",
       "     ┌───┐┌──────────┐┌───┐\n",
       "q_2: ┤ X ├┤1         ├┤ X ├\n",
       "     ├───┤│   CZ (2) │├───┤\n",
       "q_3: ┤ X ├┤0         ├┤ X ├\n",
       "     └───┘└──────────┘└───┘"
      ]
     },
     "execution_count": 15,
     "metadata": {},
     "output_type": "execute_result"
    }
   ],
   "source": [
    "\n",
    "\n",
    "nqubits = 4\n",
    "\n",
    "# Less than oracle\n",
    "number_less_than = 4\n",
    "less_than_oracle = oracle_less_than(number=number_less_than, nqubits=nqubits)\n",
    "less_than_oracle.draw()\n"
   ]
  },
  {
   "cell_type": "markdown",
   "metadata": {},
   "source": [
    "## THE GREATER_THAN ORACLE"
   ]
  },
  {
   "cell_type": "code",
   "execution_count": 16,
   "metadata": {},
   "outputs": [],
   "source": [
    "def oracle_greater_than(number, nqubits, name=None):\n",
    "\n",
    "    '''\n",
    "    This function builds a quantum circuit, an oracle, which marks with a pi-phase\n",
    "    those states which represent numbers strictly grater than the number given by parameter.\n",
    "\n",
    "    The procedure is almost the same for all numbers, with the only exception of a difference\n",
    "    if the first bit of the number in binary is 1 or 0.\n",
    "\n",
    "    Input:\n",
    "    number: integer (int) containing the objective number,\n",
    "       or a string (str) with the binary representation of such number.\n",
    "    nqubits: integer (int) number of qubits of the circuit.\n",
    "       It must be larger than the number of digits of the binary representation of number.\n",
    "    name: string (str), default None, name of the circuit.\n",
    "\n",
    "    Output:\n",
    "    circuit: QuantumCircuit which marks with fase pi the states which\n",
    "    represent in binary the numbers strictly greatersmaller than number.\n",
    "\n",
    "    This oracle relais on the use of the less_tan oracle levaraging the propertry:\n",
    "    gretar_than (x) = less_than (x+1) + globelphase\n",
    "    '''\n",
    "\n",
    "    # Construction of the circuit\n",
    "    if name:# If name is provided give such name to the circuit\n",
    "        circuit = QuantumCircuit(nqubits, name=name)\n",
    "    else: # Otherwise, the name is just \" < number\"\n",
    "        circuit = QuantumCircuit(nqubits, name = ' > %d '%number)\n",
    "\n",
    "    if number < (2**nqubits): # if number is not the greater namber that can be represented using nqubits\n",
    "        number=number+1\n",
    "\n",
    "    less_than = oracle_less_than(number=number, nqubits=nqubits)\n",
    "    gp = globalphase()\n",
    "    circuit.append(less_than.to_gate(),  range(0,nqubits, 1))\n",
    "    #circuit.append(less_than.to_gate(),  range(nqubits-1, -1, -1))  \n",
    "    circuit.append(gp.to_gate(), range(0, -1, -1))\n",
    "    return circuit\n"
   ]
  },
  {
   "cell_type": "code",
   "execution_count": 17,
   "metadata": {},
   "outputs": [
    {
     "data": {
      "text/html": [
       "<pre style=\"word-wrap: normal;white-space: pre;background: #fff0;line-height: 1.1;font-family: &quot;Courier New&quot;,Courier,monospace\">     ┌─────────┐┌───────────────────┐\n",
       "q_0: ┤0        ├┤  GlobalPhase (%d) ├\n",
       "     │         │└───────────────────┘\n",
       "q_1: ┤1        ├─────────────────────\n",
       "     │         │                     \n",
       "q_2: ┤2        ├─────────────────────\n",
       "     │         │                     \n",
       "q_3: ┤3  < 12  ├─────────────────────\n",
       "     │         │                     \n",
       "q_4: ┤4        ├─────────────────────\n",
       "     │         │                     \n",
       "q_5: ┤5        ├─────────────────────\n",
       "     │         │                     \n",
       "q_6: ┤6        ├─────────────────────\n",
       "     └─────────┘                     </pre>"
      ],
      "text/plain": [
       "     ┌─────────┐┌───────────────────┐\n",
       "q_0: ┤0        ├┤  GlobalPhase (%d) ├\n",
       "     │         │└───────────────────┘\n",
       "q_1: ┤1        ├─────────────────────\n",
       "     │         │                     \n",
       "q_2: ┤2        ├─────────────────────\n",
       "     │         │                     \n",
       "q_3: ┤3  < 12  ├─────────────────────\n",
       "     │         │                     \n",
       "q_4: ┤4        ├─────────────────────\n",
       "     │         │                     \n",
       "q_5: ┤5        ├─────────────────────\n",
       "     │         │                     \n",
       "q_6: ┤6        ├─────────────────────\n",
       "     └─────────┘                     "
      ]
     },
     "execution_count": 17,
     "metadata": {},
     "output_type": "execute_result"
    }
   ],
   "source": [
    "\n",
    "\n",
    "nqubits = 7\n",
    "\n",
    "# Greater than oracle\n",
    "number_greater_than = 11\n",
    "greater_than = oracle_greater_than(number=number_greater_than, nqubits=nqubits)\n",
    "greater_than.draw()"
   ]
  },
  {
   "cell_type": "markdown",
   "metadata": {},
   "source": [
    "## THE RANGE_OF ORACLE"
   ]
  },
  {
   "cell_type": "code",
   "execution_count": 18,
   "metadata": {},
   "outputs": [],
   "source": [
    "def oracle_range_of(lower,upper, nqubits, name=None):\n",
    "\n",
    "    '''\n",
    "    This function builds a quantum circuit, an oracle, which marks with a pi-phase\n",
    "    those states which represent numbers strictly grater than lower and stricly less than upper.\n",
    "\n",
    "    This oracle relais on the use of the less_than and greater_than oracles\n",
    "\n",
    "    Input:\n",
    "    lower: lower limit of the range.\n",
    "    upper: upper limet of the range\n",
    "    nqubits: integer (int) number of qubits of the circuit.\n",
    "       It must be larger than the number of digits of the binary representation of number.\n",
    "    name: string (str), default None, name of the circuit.\n",
    "\n",
    "    Output:\n",
    "    circuit: QuantumCircuit which marks with fase pi the states which\n",
    "    represent in binary the numbers strictly greater and less than lower and upper respectively.\n",
    "\n",
    "    '''\n",
    "\n",
    "    # Construction of the circuit\n",
    "    if name:# If name is provided give such name to the circuit\n",
    "        circuit = QuantumCircuit(nqubits, name=name)\n",
    "    else: \n",
    "        circuit = QuantumCircuit(nqubits, name = ' range_of  ')\n",
    "    less=oracle_less_than(upper,nqubits)\n",
    "    greater=oracle_greater_than(lower,nqubits)\n",
    "    gp = globalphase()\n",
    "    circuit.append(greater.to_gate(),  range(0, nqubits, 1)) \n",
    "    circuit.append(less.to_gate(),  range(0, nqubits, 1)) \n",
    "    #range(nqubits-1, -1, -1)\n",
    "    circuit.append(gp.to_gate(), range(0, -1, -1))\n",
    "    return circuit"
   ]
  },
  {
   "cell_type": "code",
   "execution_count": 19,
   "metadata": {},
   "outputs": [
    {
     "data": {
      "text/html": [
       "<pre style=\"word-wrap: normal;white-space: pre;background: #fff0;line-height: 1.1;font-family: &quot;Courier New&quot;,Courier,monospace\">     ┌────────┐┌────────┐┌───────────────────┐\n",
       "q_0: ┤0       ├┤0       ├┤  GlobalPhase (%d) ├\n",
       "     │        ││        │└───────────────────┘\n",
       "q_1: ┤1       ├┤1       ├─────────────────────\n",
       "     │   > 1  ││   < 4  │                     \n",
       "q_2: ┤2       ├┤2       ├─────────────────────\n",
       "     │        ││        │                     \n",
       "q_3: ┤3       ├┤3       ├─────────────────────\n",
       "     └────────┘└────────┘                     </pre>"
      ],
      "text/plain": [
       "     ┌────────┐┌────────┐┌───────────────────┐\n",
       "q_0: ┤0       ├┤0       ├┤  GlobalPhase (%d) ├\n",
       "     │        ││        │└───────────────────┘\n",
       "q_1: ┤1       ├┤1       ├─────────────────────\n",
       "     │   > 1  ││   < 4  │                     \n",
       "q_2: ┤2       ├┤2       ├─────────────────────\n",
       "     │        ││        │                     \n",
       "q_3: ┤3       ├┤3       ├─────────────────────\n",
       "     └────────┘└────────┘                     "
      ]
     },
     "execution_count": 19,
     "metadata": {},
     "output_type": "execute_result"
    }
   ],
   "source": [
    "nqubits = 4\n",
    "\n",
    "# Greater than oracle\n",
    "upper = 4\n",
    "lower = 1\n",
    "range_of = oracle_range_of(lower=lower, upper=upper, nqubits=nqubits)\n",
    "range_of.draw()"
   ]
  },
  {
   "cell_type": "markdown",
   "metadata": {},
   "source": [
    "## SOME SIMULATIONS"
   ]
  },
  {
   "cell_type": "markdown",
   "metadata": {},
   "source": [
    "### LESS_THAN ORACLE SIMULATION"
   ]
  },
  {
   "cell_type": "code",
   "execution_count": 20,
   "metadata": {},
   "outputs": [
    {
     "name": "stdout",
     "output_type": "stream",
     "text": [
      "1\n",
      "Printing the various results followed by how many times they happened (out of the 200 cases):\n",
      "\n",
      "-> Result \"0001\" happened 55 times out of 200\n",
      "-> Result \"0000\" happened 50 times out of 200\n",
      "-> Result \"0011\" happened 39 times out of 200\n",
      "-> Result \"0010\" happened 56 times out of 200\n"
     ]
    },
    {
     "data": {
      "text/html": [
       "<pre style=\"word-wrap: normal;white-space: pre;background: #fff0;line-height: 1.1;font-family: &quot;Courier New&quot;,Courier,monospace\">      ┌───┐┌────────┐┌────────────────┐┌─┐         \n",
       "q3_0: ┤ H ├┤0       ├┤0               ├┤M├─────────\n",
       "      ├───┤│        ││                │└╥┘┌─┐      \n",
       "q3_1: ┤ H ├┤1       ├┤1               ├─╫─┤M├──────\n",
       "      ├───┤│   < 4  ││   Diffuser (4) │ ║ └╥┘┌─┐   \n",
       "q3_2: ┤ H ├┤2       ├┤2               ├─╫──╫─┤M├───\n",
       "      ├───┤│        ││                │ ║  ║ └╥┘┌─┐\n",
       "q3_3: ┤ H ├┤3       ├┤3               ├─╫──╫──╫─┤M├\n",
       "      └───┘└────────┘└────────────────┘ ║  ║  ║ └╥┘\n",
       "c2: 4/══════════════════════════════════╩══╩══╩══╩═\n",
       "                                        0  1  2  3 </pre>"
      ],
      "text/plain": [
       "      ┌───┐┌────────┐┌────────────────┐┌─┐         \n",
       "q3_0: ┤ H ├┤0       ├┤0               ├┤M├─────────\n",
       "      ├───┤│        ││                │└╥┘┌─┐      \n",
       "q3_1: ┤ H ├┤1       ├┤1               ├─╫─┤M├──────\n",
       "      ├───┤│   < 4  ││   Diffuser (4) │ ║ └╥┘┌─┐   \n",
       "q3_2: ┤ H ├┤2       ├┤2               ├─╫──╫─┤M├───\n",
       "      ├───┤│        ││                │ ║  ║ └╥┘┌─┐\n",
       "q3_3: ┤ H ├┤3       ├┤3               ├─╫──╫──╫─┤M├\n",
       "      └───┘└────────┘└────────────────┘ ║  ║  ║ └╥┘\n",
       "c2: 4/══════════════════════════════════╩══╩══╩══╩═\n",
       "                                        0  1  2  3 "
      ]
     },
     "execution_count": 20,
     "metadata": {},
     "output_type": "execute_result"
    }
   ],
   "source": [
    "from math import sqrt\n",
    "\n",
    "# Some examples:\n",
    "method = \"statevector\"\n",
    "sim = AerSimulator(method = method)\n",
    "\n",
    "def program_less_than (nqubits,number_less_than):\n",
    "  # This program creates the circuit of a qiskit program that produces a quantum states of nqubits qbits\n",
    "  # where all the values of the state less than number_less_than have the greater amplitude\n",
    "  qreg = QuantumRegister(nqubits)\n",
    "  creg = ClassicalRegister(nqubits)\n",
    "  qprogram = QuantumCircuit(qreg,creg)\n",
    "  qprogram.h(qreg)\n",
    "  diffuser = diffuser_circuit(nqubits)\n",
    "  less_than_oracle = oracle_less_than(number=number_less_than, nqubits=nqubits)\n",
    "\n",
    "  sq = 2**nqubits\n",
    "  fr=sq/(2**nqubits-number_less_than)\n",
    "  numit=round(fr)\n",
    "  if numit == 0:\n",
    "    numit=1\n",
    "  #numit=6\n",
    "  print (numit)\n",
    "  for i in range(numit):\n",
    "    qprogram.append(less_than_oracle.to_gate(), range(0,nqubits,1))\n",
    "    qprogram.append(diffuser.to_gate(), range(0,nqubits,1))\n",
    "    #qprogram.append(less_than_oracle.to_gate(), range(nqubits-1,-1,-1))\n",
    "    #qprogram.append(diffuser.to_gate(), range(nqubits-1,-1,-1))\n",
    "  qprogram.measure(qreg,creg)\n",
    "  return qprogram\n",
    "\n",
    "\n",
    "nqubits = 4\n",
    "number_less_than = 4\n",
    "\n",
    "qp = program_less_than(nqubits, number_less_than)\n",
    "qp.draw()\n",
    "\n",
    "transpiled_circuit = transpile(qp, backend = sim)\n",
    "\n",
    "nshots = 200\n",
    "sim_run = sim.run(transpiled_circuit, shots = nshots)\n",
    "sim_result=sim_run.result()\n",
    "counts_result = sim_result.get_counts(qp)\n",
    "\n",
    "print('''Printing the various results followed by how many times they happened (out of the {} cases):\\n'''.format(nshots), flush = True)\n",
    "for i in range(len(counts_result)):\n",
    "  print('-> Result \\\"{0}\\\" happened {1} times out of {2}'.format(\n",
    "  list(sim_result.get_counts().keys())[i],\n",
    "  list(sim_result.get_counts().values())[i],nshots), \n",
    "  flush = True)\n",
    "qp.draw()\n",
    "\n"
   ]
  },
  {
   "cell_type": "markdown",
   "metadata": {},
   "source": [
    "### GREATER_THAN ORACLE SIMULATION"
   ]
  },
  {
   "cell_type": "code",
   "execution_count": 21,
   "metadata": {},
   "outputs": [
    {
     "name": "stdout",
     "output_type": "stream",
     "text": [
      "4\n",
      "Printing the various results followed by how many times they happened (out of the 200 cases):\n",
      "\n",
      "-> Result \"1101\" happened 59 times out of 200\n",
      "-> Result \"1100\" happened 46 times out of 200\n",
      "-> Result \"1111\" happened 54 times out of 200\n",
      "-> Result \"1110\" happened 41 times out of 200\n"
     ]
    },
    {
     "data": {
      "text/html": [
       "<pre style=\"word-wrap: normal;white-space: pre;background: #fff0;line-height: 1.1;font-family: &quot;Courier New&quot;,Courier,monospace\">      ┌───┐┌─────────┐┌────────────────┐┌─────────┐┌────────────────┐»\n",
       "q9_0: ┤ H ├┤0        ├┤0               ├┤0        ├┤0               ├»\n",
       "      ├───┤│         ││                ││         ││                │»\n",
       "q9_1: ┤ H ├┤1        ├┤1               ├┤1        ├┤1               ├»\n",
       "      ├───┤│   > 11  ││   Diffuser (4) ││   > 11  ││   Diffuser (4) │»\n",
       "q9_2: ┤ H ├┤2        ├┤2               ├┤2        ├┤2               ├»\n",
       "      ├───┤│         ││                ││         ││                │»\n",
       "q9_3: ┤ H ├┤3        ├┤3               ├┤3        ├┤3               ├»\n",
       "      └───┘└─────────┘└────────────────┘└─────────┘└────────────────┘»\n",
       "c3: 4/═══════════════════════════════════════════════════════════════»\n",
       "                                                                     »\n",
       "«      ┌─────────┐┌────────────────┐┌─────────┐┌────────────────┐┌─┐         \n",
       "«q9_0: ┤0        ├┤0               ├┤0        ├┤0               ├┤M├─────────\n",
       "«      │         ││                ││         ││                │└╥┘┌─┐      \n",
       "«q9_1: ┤1        ├┤1               ├┤1        ├┤1               ├─╫─┤M├──────\n",
       "«      │   > 11  ││   Diffuser (4) ││   > 11  ││   Diffuser (4) │ ║ └╥┘┌─┐   \n",
       "«q9_2: ┤2        ├┤2               ├┤2        ├┤2               ├─╫──╫─┤M├───\n",
       "«      │         ││                ││         ││                │ ║  ║ └╥┘┌─┐\n",
       "«q9_3: ┤3        ├┤3               ├┤3        ├┤3               ├─╫──╫──╫─┤M├\n",
       "«      └─────────┘└────────────────┘└─────────┘└────────────────┘ ║  ║  ║ └╥┘\n",
       "«c3: 4/═══════════════════════════════════════════════════════════╩══╩══╩══╩═\n",
       "«                                                                 0  1  2  3 </pre>"
      ],
      "text/plain": [
       "      ┌───┐┌─────────┐┌────────────────┐┌─────────┐┌────────────────┐»\n",
       "q9_0: ┤ H ├┤0        ├┤0               ├┤0        ├┤0               ├»\n",
       "      ├───┤│         ││                ││         ││                │»\n",
       "q9_1: ┤ H ├┤1        ├┤1               ├┤1        ├┤1               ├»\n",
       "      ├───┤│   > 11  ││   Diffuser (4) ││   > 11  ││   Diffuser (4) │»\n",
       "q9_2: ┤ H ├┤2        ├┤2               ├┤2        ├┤2               ├»\n",
       "      ├───┤│         ││                ││         ││                │»\n",
       "q9_3: ┤ H ├┤3        ├┤3               ├┤3        ├┤3               ├»\n",
       "      └───┘└─────────┘└────────────────┘└─────────┘└────────────────┘»\n",
       "c3: 4/═══════════════════════════════════════════════════════════════»\n",
       "                                                                     »\n",
       "«      ┌─────────┐┌────────────────┐┌─────────┐┌────────────────┐┌─┐         \n",
       "«q9_0: ┤0        ├┤0               ├┤0        ├┤0               ├┤M├─────────\n",
       "«      │         ││                ││         ││                │└╥┘┌─┐      \n",
       "«q9_1: ┤1        ├┤1               ├┤1        ├┤1               ├─╫─┤M├──────\n",
       "«      │   > 11  ││   Diffuser (4) ││   > 11  ││   Diffuser (4) │ ║ └╥┘┌─┐   \n",
       "«q9_2: ┤2        ├┤2               ├┤2        ├┤2               ├─╫──╫─┤M├───\n",
       "«      │         ││                ││         ││                │ ║  ║ └╥┘┌─┐\n",
       "«q9_3: ┤3        ├┤3               ├┤3        ├┤3               ├─╫──╫──╫─┤M├\n",
       "«      └─────────┘└────────────────┘└─────────┘└────────────────┘ ║  ║  ║ └╥┘\n",
       "«c3: 4/═══════════════════════════════════════════════════════════╩══╩══╩══╩═\n",
       "«                                                                 0  1  2  3 "
      ]
     },
     "execution_count": 21,
     "metadata": {},
     "output_type": "execute_result"
    }
   ],
   "source": [
    "from math import sqrt\n",
    "\n",
    "# Some examples:\n",
    "method = \"statevector\"\n",
    "sim = AerSimulator(method = method)\n",
    "\n",
    "def program_greater_than (nqubits,number_greater_than):\n",
    "  # This program creates the circuit of a qiskit program that produces a quantum states of nqubits qbits\n",
    "  # where all the values of the state less than number_less_than have the greater amplitude\n",
    "  qreg = QuantumRegister(nqubits)\n",
    "  creg = ClassicalRegister(nqubits)\n",
    "  qprogram = QuantumCircuit(qreg,creg)\n",
    "  qprogram.h(qreg)\n",
    "  diffuser = diffuser_circuit(nqubits)\n",
    "  greater_than_oracle = oracle_greater_than(number=number_greater_than, nqubits=nqubits)\n",
    "\n",
    "  sq = 2**nqubits\n",
    "  fr=sq/(2**nqubits-number_greater_than)\n",
    "  numit=round(fr)+1\n",
    "  if numit == 0:\n",
    "    numit=1\n",
    "  #numit=6\n",
    "  print (numit)\n",
    "  for i in range(numit):\n",
    "    qprogram.append(greater_than_oracle.to_gate(), range(0,nqubits,1))\n",
    "    qprogram.append(diffuser.to_gate(), range(0,nqubits,1))\n",
    "    #qprogram.append(greater_than_oracle.to_gate(), range(nqubits-1,-1,-1))\n",
    "    #qprogram.append(diffuser.to_gate(), range(nqubits-1,-1,-1))\n",
    "  qprogram.measure(qreg,creg)\n",
    "  return qprogram\n",
    "\n",
    "\n",
    "nqubits = 4\n",
    "number_greater_than = 11\n",
    "\n",
    "qp = program_greater_than(nqubits, number_greater_than)\n",
    "qp.draw()\n",
    "\n",
    "transpiled_circuit = transpile(qp, backend = sim)\n",
    "\n",
    "nshots = 200\n",
    "sim_run = sim.run(transpiled_circuit, shots = nshots)\n",
    "sim_result=sim_run.result()\n",
    "counts_result = sim_result.get_counts(qp)\n",
    "\n",
    "print('''Printing the various results followed by how many times they happened (out of the {} cases):\\n'''.format(nshots), flush = True)\n",
    "for i in range(len(counts_result)):\n",
    "  print('-> Result \\\"{0}\\\" happened {1} times out of {2}'.format(\n",
    "  list(sim_result.get_counts().keys())[i],\n",
    "  list(sim_result.get_counts().values())[i],nshots), \n",
    "  flush = True)\n",
    "qp.draw()"
   ]
  },
  {
   "cell_type": "markdown",
   "metadata": {},
   "source": [
    "### RANGE_OF ORACLE SIMULATION"
   ]
  },
  {
   "cell_type": "code",
   "execution_count": 22,
   "metadata": {},
   "outputs": [
    {
     "name": "stdout",
     "output_type": "stream",
     "text": [
      "6\n",
      "Printing the various results followed by how many times they happened (out of the 200 cases):\n",
      "\n",
      "-> Result \"0011\" happened 101 times out of 200\n",
      "-> Result \"0010\" happened 99 times out of 200\n"
     ]
    },
    {
     "data": {
      "text/html": [
       "<pre style=\"word-wrap: normal;white-space: pre;background: #fff0;line-height: 1.1;font-family: &quot;Courier New&quot;,Courier,monospace\">       ┌───┐┌──────────────┐┌────────────────┐┌──────────────┐»\n",
       "q16_0: ┤ H ├┤0             ├┤0               ├┤0             ├»\n",
       "       ├───┤│              ││                ││              │»\n",
       "q16_1: ┤ H ├┤1             ├┤1               ├┤1             ├»\n",
       "       ├───┤│   range_of   ││   Diffuser (4) ││   range_of   │»\n",
       "q16_2: ┤ H ├┤2             ├┤2               ├┤2             ├»\n",
       "       ├───┤│              ││                ││              │»\n",
       "q16_3: ┤ H ├┤3             ├┤3               ├┤3             ├»\n",
       "       └───┘└──────────────┘└────────────────┘└──────────────┘»\n",
       " c4: 4/═══════════════════════════════════════════════════════»\n",
       "                                                              »\n",
       "«       ┌────────────────┐┌──────────────┐┌────────────────┐┌──────────────┐»\n",
       "«q16_0: ┤0               ├┤0             ├┤0               ├┤0             ├»\n",
       "«       │                ││              ││                ││              │»\n",
       "«q16_1: ┤1               ├┤1             ├┤1               ├┤1             ├»\n",
       "«       │   Diffuser (4) ││   range_of   ││   Diffuser (4) ││   range_of   │»\n",
       "«q16_2: ┤2               ├┤2             ├┤2               ├┤2             ├»\n",
       "«       │                ││              ││                ││              │»\n",
       "«q16_3: ┤3               ├┤3             ├┤3               ├┤3             ├»\n",
       "«       └────────────────┘└──────────────┘└────────────────┘└──────────────┘»\n",
       "« c4: 4/════════════════════════════════════════════════════════════════════»\n",
       "«                                                                           »\n",
       "«       ┌────────────────┐┌──────────────┐┌────────────────┐┌──────────────┐»\n",
       "«q16_0: ┤0               ├┤0             ├┤0               ├┤0             ├»\n",
       "«       │                ││              ││                ││              │»\n",
       "«q16_1: ┤1               ├┤1             ├┤1               ├┤1             ├»\n",
       "«       │   Diffuser (4) ││   range_of   ││   Diffuser (4) ││   range_of   │»\n",
       "«q16_2: ┤2               ├┤2             ├┤2               ├┤2             ├»\n",
       "«       │                ││              ││                ││              │»\n",
       "«q16_3: ┤3               ├┤3             ├┤3               ├┤3             ├»\n",
       "«       └────────────────┘└──────────────┘└────────────────┘└──────────────┘»\n",
       "« c4: 4/════════════════════════════════════════════════════════════════════»\n",
       "«                                                                           »\n",
       "«       ┌────────────────┐┌─┐         \n",
       "«q16_0: ┤0               ├┤M├─────────\n",
       "«       │                │└╥┘┌─┐      \n",
       "«q16_1: ┤1               ├─╫─┤M├──────\n",
       "«       │   Diffuser (4) │ ║ └╥┘┌─┐   \n",
       "«q16_2: ┤2               ├─╫──╫─┤M├───\n",
       "«       │                │ ║  ║ └╥┘┌─┐\n",
       "«q16_3: ┤3               ├─╫──╫──╫─┤M├\n",
       "«       └────────────────┘ ║  ║  ║ └╥┘\n",
       "« c4: 4/═══════════════════╩══╩══╩══╩═\n",
       "«                          0  1  2  3 </pre>"
      ],
      "text/plain": [
       "       ┌───┐┌──────────────┐┌────────────────┐┌──────────────┐»\n",
       "q16_0: ┤ H ├┤0             ├┤0               ├┤0             ├»\n",
       "       ├───┤│              ││                ││              │»\n",
       "q16_1: ┤ H ├┤1             ├┤1               ├┤1             ├»\n",
       "       ├───┤│   range_of   ││   Diffuser (4) ││   range_of   │»\n",
       "q16_2: ┤ H ├┤2             ├┤2               ├┤2             ├»\n",
       "       ├───┤│              ││                ││              │»\n",
       "q16_3: ┤ H ├┤3             ├┤3               ├┤3             ├»\n",
       "       └───┘└──────────────┘└────────────────┘└──────────────┘»\n",
       " c4: 4/═══════════════════════════════════════════════════════»\n",
       "                                                              »\n",
       "«       ┌────────────────┐┌──────────────┐┌────────────────┐┌──────────────┐»\n",
       "«q16_0: ┤0               ├┤0             ├┤0               ├┤0             ├»\n",
       "«       │                ││              ││                ││              │»\n",
       "«q16_1: ┤1               ├┤1             ├┤1               ├┤1             ├»\n",
       "«       │   Diffuser (4) ││   range_of   ││   Diffuser (4) ││   range_of   │»\n",
       "«q16_2: ┤2               ├┤2             ├┤2               ├┤2             ├»\n",
       "«       │                ││              ││                ││              │»\n",
       "«q16_3: ┤3               ├┤3             ├┤3               ├┤3             ├»\n",
       "«       └────────────────┘└──────────────┘└────────────────┘└──────────────┘»\n",
       "« c4: 4/════════════════════════════════════════════════════════════════════»\n",
       "«                                                                           »\n",
       "«       ┌────────────────┐┌──────────────┐┌────────────────┐┌──────────────┐»\n",
       "«q16_0: ┤0               ├┤0             ├┤0               ├┤0             ├»\n",
       "«       │                ││              ││                ││              │»\n",
       "«q16_1: ┤1               ├┤1             ├┤1               ├┤1             ├»\n",
       "«       │   Diffuser (4) ││   range_of   ││   Diffuser (4) ││   range_of   │»\n",
       "«q16_2: ┤2               ├┤2             ├┤2               ├┤2             ├»\n",
       "«       │                ││              ││                ││              │»\n",
       "«q16_3: ┤3               ├┤3             ├┤3               ├┤3             ├»\n",
       "«       └────────────────┘└──────────────┘└────────────────┘└──────────────┘»\n",
       "« c4: 4/════════════════════════════════════════════════════════════════════»\n",
       "«                                                                           »\n",
       "«       ┌────────────────┐┌─┐         \n",
       "«q16_0: ┤0               ├┤M├─────────\n",
       "«       │                │└╥┘┌─┐      \n",
       "«q16_1: ┤1               ├─╫─┤M├──────\n",
       "«       │   Diffuser (4) │ ║ └╥┘┌─┐   \n",
       "«q16_2: ┤2               ├─╫──╫─┤M├───\n",
       "«       │                │ ║  ║ └╥┘┌─┐\n",
       "«q16_3: ┤3               ├─╫──╫──╫─┤M├\n",
       "«       └────────────────┘ ║  ║  ║ └╥┘\n",
       "« c4: 4/═══════════════════╩══╩══╩══╩═\n",
       "«                          0  1  2  3 "
      ]
     },
     "execution_count": 22,
     "metadata": {},
     "output_type": "execute_result"
    }
   ],
   "source": [
    "from qiskit_aer import AerSimulator\n",
    "from qiskit import QuantumCircuit, ClassicalRegister, QuantumRegister\n",
    "from qiskit import execute, IBMQ, transpile\n",
    "from qiskit.circuit.library import QFT\n",
    "from qiskit.extensions import UnitaryGate\n",
    "from math import sqrt\n",
    "\n",
    "# Some examples:\n",
    "method = \"statevector\"\n",
    "sim = AerSimulator(method = method)\n",
    "\n",
    "def program_range_of (nqubits,number_lower,number_upper):\n",
    "  # This program creates the circuit of a qiskit program that produces a quantum states of nqubits qbits\n",
    "  # where all the values of the state less than number_less_than have the greater amplitude\n",
    "  qreg = QuantumRegister(nqubits)\n",
    "  creg = ClassicalRegister(nqubits)\n",
    "  qprogram = QuantumCircuit(qreg,creg)\n",
    "  qprogram.h(qreg)\n",
    "  diffuser = diffuser_circuit(nqubits)\n",
    "  range_of_oracle = oracle_range_of(lower=number_lower, upper=number_upper, nqubits=nqubits)\n",
    "\n",
    "  sq = 2**nqubits\n",
    "  fr=sq/(number_upper-number_lower)\n",
    "  numit=round(fr)+1\n",
    "  if numit == 0:\n",
    "    numit=1\n",
    "  #numit=6\n",
    "  print (numit)\n",
    "  for i in range(numit):\n",
    "    qprogram.append(range_of_oracle.to_gate(), range(0, nqubits, 1))\n",
    "    qprogram.append(diffuser.to_gate(), range(0, nqubits, 1))\n",
    "  qprogram.measure(qreg,creg)\n",
    "  return qprogram\n",
    "\n",
    "\n",
    "nqubits = 4\n",
    "number_lower = 1\n",
    "number_upper = 4\n",
    "\n",
    "qp = program_range_of(nqubits, number_lower, number_upper)\n",
    "qp.draw()\n",
    "\n",
    "transpiled_circuit = transpile(qp, backend = sim)\n",
    "\n",
    "nshots = 200\n",
    "sim_run = sim.run(transpiled_circuit, shots = nshots)\n",
    "sim_result=sim_run.result()\n",
    "counts_result = sim_result.get_counts(qp)\n",
    "\n",
    "print('''Printing the various results followed by how many times they happened (out of the {} cases):\\n'''.format(nshots), flush = True)\n",
    "for i in range(len(counts_result)):\n",
    "  print('-> Result \\\"{0}\\\" happened {1} times out of {2}'.format(\n",
    "  list(sim_result.get_counts().keys())[i],\n",
    "  list(sim_result.get_counts().values())[i],nshots), \n",
    "  flush = True)\n",
    "qp.draw()"
   ]
  }
 ],
 "metadata": {
  "kernelspec": {
   "display_name": ".venv",
   "language": "python",
   "name": "python3"
  },
  "language_info": {
   "codemirror_mode": {
    "name": "ipython",
    "version": 3
   },
   "file_extension": ".py",
   "mimetype": "text/x-python",
   "name": "python",
   "nbconvert_exporter": "python",
   "pygments_lexer": "ipython3",
   "version": "3.9.6"
  }
 },
 "nbformat": 4,
 "nbformat_minor": 2
}
